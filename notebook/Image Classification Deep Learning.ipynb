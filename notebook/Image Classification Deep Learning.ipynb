{
 "cells": [
  {
   "cell_type": "markdown",
   "metadata": {},
   "source": [
    "# Import Libraries"
   ]
  },
  {
   "cell_type": "code",
   "execution_count": 174,
   "metadata": {},
   "outputs": [],
   "source": [
    "import os\n",
    "import random\n",
    "import cv2\n",
    "\n",
    "import pandas as pd\n",
    "import numpy as np\n",
    "import matplotlib.pyplot as plt\n",
    "\n",
    "import tensorflow as tf"
   ]
  },
  {
   "cell_type": "markdown",
   "metadata": {},
   "source": [
    "# Loading Data"
   ]
  },
  {
   "cell_type": "code",
   "execution_count": 43,
   "metadata": {},
   "outputs": [],
   "source": [
    "# Membaca file data csv\n",
    "dataframe = pd.read_csv('../data/pokemon-images.csv')\n",
    "\n",
    "# Menghapus kolom Type2\n",
    "dataframe = dataframe.drop('Type2',axis=1)\n",
    "\n",
    "# Mengurutkan data A-Z berdasar kolom Name\n",
    "dataframe = dataframe.sort_values(by='Name')\n",
    "\n",
    "# Mengatur ulang index\n",
    "dataframe = dataframe.reset_index().drop('index',axis=1)"
   ]
  },
  {
   "cell_type": "code",
   "execution_count": 44,
   "metadata": {},
   "outputs": [
    {
     "data": {
      "text/html": [
       "<div>\n",
       "<style scoped>\n",
       "    .dataframe tbody tr th:only-of-type {\n",
       "        vertical-align: middle;\n",
       "    }\n",
       "\n",
       "    .dataframe tbody tr th {\n",
       "        vertical-align: top;\n",
       "    }\n",
       "\n",
       "    .dataframe thead th {\n",
       "        text-align: right;\n",
       "    }\n",
       "</style>\n",
       "<table border=\"1\" class=\"dataframe\">\n",
       "  <thead>\n",
       "    <tr style=\"text-align: right;\">\n",
       "      <th></th>\n",
       "      <th>Name</th>\n",
       "      <th>Type1</th>\n",
       "    </tr>\n",
       "  </thead>\n",
       "  <tbody>\n",
       "    <tr>\n",
       "      <th>0</th>\n",
       "      <td>abomasnow</td>\n",
       "      <td>Grass</td>\n",
       "    </tr>\n",
       "    <tr>\n",
       "      <th>1</th>\n",
       "      <td>abra</td>\n",
       "      <td>Psychic</td>\n",
       "    </tr>\n",
       "    <tr>\n",
       "      <th>2</th>\n",
       "      <td>absol</td>\n",
       "      <td>Dark</td>\n",
       "    </tr>\n",
       "    <tr>\n",
       "      <th>3</th>\n",
       "      <td>accelgor</td>\n",
       "      <td>Bug</td>\n",
       "    </tr>\n",
       "    <tr>\n",
       "      <th>4</th>\n",
       "      <td>aegislash-blade</td>\n",
       "      <td>Steel</td>\n",
       "    </tr>\n",
       "    <tr>\n",
       "      <th>...</th>\n",
       "      <td>...</td>\n",
       "      <td>...</td>\n",
       "    </tr>\n",
       "    <tr>\n",
       "      <th>804</th>\n",
       "      <td>zoroark</td>\n",
       "      <td>Dark</td>\n",
       "    </tr>\n",
       "    <tr>\n",
       "      <th>805</th>\n",
       "      <td>zorua</td>\n",
       "      <td>Dark</td>\n",
       "    </tr>\n",
       "    <tr>\n",
       "      <th>806</th>\n",
       "      <td>zubat</td>\n",
       "      <td>Poison</td>\n",
       "    </tr>\n",
       "    <tr>\n",
       "      <th>807</th>\n",
       "      <td>zweilous</td>\n",
       "      <td>Dark</td>\n",
       "    </tr>\n",
       "    <tr>\n",
       "      <th>808</th>\n",
       "      <td>zygarde-50</td>\n",
       "      <td>Dragon</td>\n",
       "    </tr>\n",
       "  </tbody>\n",
       "</table>\n",
       "<p>809 rows × 2 columns</p>\n",
       "</div>"
      ],
      "text/plain": [
       "                Name    Type1\n",
       "0          abomasnow    Grass\n",
       "1               abra  Psychic\n",
       "2              absol     Dark\n",
       "3           accelgor      Bug\n",
       "4    aegislash-blade    Steel\n",
       "..               ...      ...\n",
       "804          zoroark     Dark\n",
       "805            zorua     Dark\n",
       "806            zubat   Poison\n",
       "807         zweilous     Dark\n",
       "808       zygarde-50   Dragon\n",
       "\n",
       "[809 rows x 2 columns]"
      ]
     },
     "execution_count": 44,
     "metadata": {},
     "output_type": "execute_result"
    }
   ],
   "source": [
    "dataframe"
   ]
  },
  {
   "cell_type": "code",
   "execution_count": 146,
   "metadata": {},
   "outputs": [],
   "source": [
    "# Mendapatkan data gambar dari direktori\n",
    "imageFile = pd.Series(os.listdir('../images/'))\n",
    "allName = imageFile.apply(lambda x : x[:-4])"
   ]
  },
  {
   "cell_type": "markdown",
   "metadata": {},
   "source": [
    "# Checkup Data"
   ]
  },
  {
   "cell_type": "code",
   "execution_count": 147,
   "metadata": {},
   "outputs": [],
   "source": [
    "# Mengurutkan data A-Z\n",
    "allName = allName.sort_values()\n",
    "allName = allName.reset_index().drop('index',axis=1)[0]"
   ]
  },
  {
   "cell_type": "code",
   "execution_count": 148,
   "metadata": {},
   "outputs": [
    {
     "data": {
      "text/plain": [
       "0            abomasnow\n",
       "1                 abra\n",
       "2                absol\n",
       "3             accelgor\n",
       "4      aegislash-blade\n",
       "            ...       \n",
       "804            zoroark\n",
       "805              zorua\n",
       "806              zubat\n",
       "807           zweilous\n",
       "808         zygarde-50\n",
       "Name: 0, Length: 809, dtype: object"
      ]
     },
     "execution_count": 148,
     "metadata": {},
     "output_type": "execute_result"
    }
   ],
   "source": [
    "allName"
   ]
  },
  {
   "cell_type": "code",
   "execution_count": 149,
   "metadata": {},
   "outputs": [
    {
     "data": {
      "text/plain": [
       "0            abomasnow\n",
       "1                 abra\n",
       "2                absol\n",
       "3             accelgor\n",
       "4      aegislash-blade\n",
       "            ...       \n",
       "804            zoroark\n",
       "805              zorua\n",
       "806              zubat\n",
       "807           zweilous\n",
       "808         zygarde-50\n",
       "Name: Name, Length: 809, dtype: object"
      ]
     },
     "execution_count": 149,
     "metadata": {},
     "output_type": "execute_result"
    }
   ],
   "source": [
    "dataframe['Name']"
   ]
  },
  {
   "cell_type": "code",
   "execution_count": 150,
   "metadata": {},
   "outputs": [
    {
     "data": {
      "text/plain": [
       "530    poochyena\n",
       "531      popplio\n",
       "532      porygon\n",
       "533    porygon-z\n",
       "534     porygon2\n",
       "Name: 0, dtype: object"
      ]
     },
     "execution_count": 150,
     "metadata": {},
     "output_type": "execute_result"
    }
   ],
   "source": [
    "allName[530:535]"
   ]
  },
  {
   "cell_type": "code",
   "execution_count": 151,
   "metadata": {},
   "outputs": [
    {
     "data": {
      "text/plain": [
       "530    poochyena\n",
       "531      popplio\n",
       "532      porygon\n",
       "533    porygon-z\n",
       "534     porygon2\n",
       "Name: Name, dtype: object"
      ]
     },
     "execution_count": 151,
     "metadata": {},
     "output_type": "execute_result"
    }
   ],
   "source": [
    "dataframe['Name'][530:535]"
   ]
  },
  {
   "cell_type": "code",
   "execution_count": 152,
   "metadata": {},
   "outputs": [
    {
     "data": {
      "text/plain": [
       "0      True\n",
       "1      True\n",
       "2      True\n",
       "3      True\n",
       "4      True\n",
       "       ... \n",
       "804    True\n",
       "805    True\n",
       "806    True\n",
       "807    True\n",
       "808    True\n",
       "Length: 809, dtype: bool"
      ]
     },
     "execution_count": 152,
     "metadata": {},
     "output_type": "execute_result"
    }
   ],
   "source": [
    "allName == dataframe['Name']"
   ]
  },
  {
   "cell_type": "code",
   "execution_count": 153,
   "metadata": {},
   "outputs": [
    {
     "data": {
      "text/plain": [
       "Series([], Name: 0, dtype: object)"
      ]
     },
     "execution_count": 153,
     "metadata": {},
     "output_type": "execute_result"
    }
   ],
   "source": [
    "# Memastikan tidak ada data yang berbeda antara file gambar dengan data csv\n",
    "allName[allName != dataframe['Name']]"
   ]
  },
  {
   "cell_type": "markdown",
   "metadata": {},
   "source": [
    "# Image Preprocessing"
   ]
  },
  {
   "cell_type": "code",
   "execution_count": 154,
   "metadata": {},
   "outputs": [
    {
     "data": {
      "text/plain": [
       "0          abomasnow.png\n",
       "1               abra.png\n",
       "2              absol.png\n",
       "3           accelgor.png\n",
       "4    aegislash-blade.png\n",
       "dtype: object"
      ]
     },
     "execution_count": 154,
     "metadata": {},
     "output_type": "execute_result"
    }
   ],
   "source": [
    "imageFile.head()"
   ]
  },
  {
   "cell_type": "code",
   "execution_count": 155,
   "metadata": {},
   "outputs": [],
   "source": [
    "# Mengubah data menjadi full path dari file gambar\n",
    "imageFile = imageFile.apply(lambda x:f'../images/{x}')"
   ]
  },
  {
   "cell_type": "code",
   "execution_count": 156,
   "metadata": {},
   "outputs": [
    {
     "data": {
      "text/plain": [
       "0          ../images/abomasnow.png\n",
       "1               ../images/abra.png\n",
       "2              ../images/absol.png\n",
       "3           ../images/accelgor.png\n",
       "4    ../images/aegislash-blade.png\n",
       "dtype: object"
      ]
     },
     "execution_count": 156,
     "metadata": {},
     "output_type": "execute_result"
    }
   ],
   "source": [
    "imageFile.head()"
   ]
  },
  {
   "cell_type": "code",
   "execution_count": 163,
   "metadata": {},
   "outputs": [],
   "source": [
    "# Membaca setiap image menjadi numpy array dengan cv2\n",
    "imageArray = np.array(list(map(lambda file:cv2.imread(file),imageFile)))"
   ]
  },
  {
   "cell_type": "code",
   "execution_count": 181,
   "metadata": {},
   "outputs": [],
   "source": [
    "imageDataframe = list(zip(dataframe['Name'],imageArray))"
   ]
  },
  {
   "cell_type": "code",
   "execution_count": 182,
   "metadata": {},
   "outputs": [],
   "source": [
    "# Menampilkan sample image secara random\n",
    "def imgSample(count):\n",
    "    for i in range(count):\n",
    "        data = random.choice(imageDataframe)\n",
    "        plt.imshow(data[1])\n",
    "        plt.title(data[0])\n",
    "        plt.show()"
   ]
  },
  {
   "cell_type": "code",
   "execution_count": 184,
   "metadata": {},
   "outputs": [
    {
     "data": {
      "image/png": "[encoded data removed]",
      "text/plain": [
       "<Figure size 432x288 with 1 Axes>"
      ]
     },
     "metadata": {
      "needs_background": "light"
     },
     "output_type": "display_data"
    },
    {
     "data": {
      "image/png": "[encoded data removed]",
      "text/plain": [
       "<Figure size 432x288 with 1 Axes>"
      ]
     },
     "metadata": {
      "needs_background": "light"
     },
     "output_type": "display_data"
    },
    {
     "data": {
      "image/png": "[encoded data removed]",
      "text/plain": [
       "<Figure size 432x288 with 1 Axes>"
      ]
     },
     "metadata": {
      "needs_background": "light"
     },
     "output_type": "display_data"
    }
   ],
   "source": [
    "imgSample(3)"
   ]
  },
  {
   "cell_type": "markdown",
   "metadata": {},
   "source": [
    "# Mengelompokan Berdasarkan Tipe"
   ]
  },
  {
   "cell_type": "code",
   "execution_count": 188,
   "metadata": {},
   "outputs": [
    {
     "data": {
      "text/html": [
       "<div>\n",
       "<style scoped>\n",
       "    .dataframe tbody tr th:only-of-type {\n",
       "        vertical-align: middle;\n",
       "    }\n",
       "\n",
       "    .dataframe tbody tr th {\n",
       "        vertical-align: top;\n",
       "    }\n",
       "\n",
       "    .dataframe thead th {\n",
       "        text-align: right;\n",
       "    }\n",
       "</style>\n",
       "<table border=\"1\" class=\"dataframe\">\n",
       "  <thead>\n",
       "    <tr style=\"text-align: right;\">\n",
       "      <th></th>\n",
       "      <th>Name</th>\n",
       "      <th>Type1</th>\n",
       "    </tr>\n",
       "  </thead>\n",
       "  <tbody>\n",
       "    <tr>\n",
       "      <th>0</th>\n",
       "      <td>abomasnow</td>\n",
       "      <td>Grass</td>\n",
       "    </tr>\n",
       "    <tr>\n",
       "      <th>1</th>\n",
       "      <td>abra</td>\n",
       "      <td>Psychic</td>\n",
       "    </tr>\n",
       "    <tr>\n",
       "      <th>2</th>\n",
       "      <td>absol</td>\n",
       "      <td>Dark</td>\n",
       "    </tr>\n",
       "    <tr>\n",
       "      <th>3</th>\n",
       "      <td>accelgor</td>\n",
       "      <td>Bug</td>\n",
       "    </tr>\n",
       "    <tr>\n",
       "      <th>4</th>\n",
       "      <td>aegislash-blade</td>\n",
       "      <td>Steel</td>\n",
       "    </tr>\n",
       "  </tbody>\n",
       "</table>\n",
       "</div>"
      ],
      "text/plain": [
       "              Name    Type1\n",
       "0        abomasnow    Grass\n",
       "1             abra  Psychic\n",
       "2            absol     Dark\n",
       "3         accelgor      Bug\n",
       "4  aegislash-blade    Steel"
      ]
     },
     "execution_count": 188,
     "metadata": {},
     "output_type": "execute_result"
    }
   ],
   "source": [
    "dataframe.head()"
   ]
  },
  {
   "cell_type": "code",
   "execution_count": 211,
   "metadata": {},
   "outputs": [],
   "source": [
    "uniqueType = np.unique(dataframe['Type1'])"
   ]
  },
  {
   "cell_type": "code",
   "execution_count": 212,
   "metadata": {},
   "outputs": [
    {
     "data": {
      "text/plain": [
       "array(['Bug', 'Dark', 'Dragon', 'Electric', 'Fairy', 'Fighting', 'Fire',\n",
       "       'Flying', 'Ghost', 'Grass', 'Ground', 'Ice', 'Normal', 'Poison',\n",
       "       'Psychic', 'Rock', 'Steel', 'Water'], dtype=object)"
      ]
     },
     "execution_count": 212,
     "metadata": {},
     "output_type": "execute_result"
    }
   ],
   "source": [
    "uniqueType"
   ]
  },
  {
   "cell_type": "code",
   "execution_count": 216,
   "metadata": {},
   "outputs": [],
   "source": [
    "kelompok = dict()\n",
    "jmlKelompok = dict()\n",
    "for tipe in uniqueType:\n",
    "    kelompok[tipe] = np.array(dataframe['Name'][dataframe['Type1'] == tipe])\n",
    "    jmlKelompok[tipe] = len(kelompok[tipe])"
   ]
  },
  {
   "cell_type": "code",
   "execution_count": 217,
   "metadata": {},
   "outputs": [
    {
     "data": {
      "text/plain": [
       "{'Bug': array(['accelgor', 'ariados', 'beautifly', 'beedrill', 'burmy',\n",
       "        'butterfree', 'buzzwole', 'cascoon', 'caterpie', 'charjabug',\n",
       "        'combee', 'crustle', 'cutiefly', 'durant', 'dustox', 'dwebble',\n",
       "        'escavalier', 'forretress', 'galvantula', 'genesect', 'golisopod',\n",
       "        'grubbin', 'heracross', 'illumise', 'joltik', 'kakuna',\n",
       "        'karrablast', 'kricketot', 'kricketune', 'larvesta', 'leavanny',\n",
       "        'ledian', 'ledyba', 'masquerain', 'metapod', 'mothim', 'nincada',\n",
       "        'ninjask', 'paras', 'parasect', 'pheromosa', 'pineco', 'pinsir',\n",
       "        'ribombee', 'scatterbug', 'scizor', 'scolipede', 'scyther',\n",
       "        'sewaddle', 'shedinja', 'shelmet', 'shuckle', 'silcoon', 'spewpa',\n",
       "        'spinarak', 'surskit', 'swadloon', 'venipede', 'venomoth',\n",
       "        'venonat', 'vespiquen', 'vikavolt', 'vivillon', 'volbeat',\n",
       "        'volcarona', 'weedle', 'whirlipede', 'wimpod', 'wormadam-plant',\n",
       "        'wurmple', 'yanma', 'yanmega'], dtype=object),\n",
       " 'Dark': array(['absol', 'bisharp', 'darkrai', 'deino', 'guzzlord', 'honchkrow',\n",
       "        'houndoom', 'houndour', 'hydreigon', 'inkay', 'liepard', 'malamar',\n",
       "        'mandibuzz', 'mightyena', 'murkrow', 'pawniard', 'poochyena',\n",
       "        'purrloin', 'sableye', 'scrafty', 'scraggy', 'sneasel', 'umbreon',\n",
       "        'vullaby', 'weavile', 'yveltal', 'zoroark', 'zorua', 'zweilous'],\n",
       "       dtype=object),\n",
       " 'Dragon': array(['altaria', 'axew', 'bagon', 'dragonair', 'dragonite', 'dratini',\n",
       "        'druddigon', 'fraxure', 'gabite', 'garchomp', 'gible', 'goodra',\n",
       "        'goomy', 'hakamo-o', 'haxorus', 'jangmo-o', 'kommo-o', 'kyurem',\n",
       "        'latias', 'latios', 'rayquaza', 'reshiram', 'salamence', 'shelgon',\n",
       "        'sliggoo', 'zekrom', 'zygarde-50'], dtype=object),\n",
       " 'Electric': array(['ampharos', 'blitzle', 'dedenne', 'eelektrik', 'eelektross',\n",
       "        'electabuzz', 'electivire', 'electrike', 'electrode', 'elekid',\n",
       "        'emolga', 'flaaffy', 'heliolisk', 'helioptile', 'jolteon', 'luxio',\n",
       "        'luxray', 'magnemite', 'magneton', 'magnezone', 'manectric',\n",
       "        'mareep', 'minun', 'pachirisu', 'pichu', 'pikachu', 'plusle',\n",
       "        'raichu', 'raikou', 'rotom', 'shinx', 'tapu-koko',\n",
       "        'thundurus-incarnate', 'togedemaru', 'tynamo', 'voltorb',\n",
       "        'xurkitree', 'zapdos', 'zebstrika', 'zeraora'], dtype=object),\n",
       " 'Fairy': array(['aromatisse', 'clefable', 'clefairy', 'cleffa', 'comfey',\n",
       "        'flabebe', 'floette', 'florges', 'granbull', 'slurpuff',\n",
       "        'snubbull', 'spritzee', 'swirlix', 'sylveon', 'togekiss', 'togepi',\n",
       "        'togetic', 'xerneas'], dtype=object),\n",
       " 'Fighting': array(['conkeldurr', 'crabominable', 'crabrawler', 'gurdurr', 'hariyama',\n",
       "        'hawlucha', 'hitmonchan', 'hitmonlee', 'hitmontop', 'lucario',\n",
       "        'machamp', 'machoke', 'machop', 'makuhita', 'mankey', 'marshadow',\n",
       "        'medicham', 'meditite', 'mienfoo', 'mienshao', 'pancham',\n",
       "        'pangoro', 'passimian', 'primeape', 'riolu', 'sawk', 'throh',\n",
       "        'timburr', 'tyrogue'], dtype=object),\n",
       " 'Fire': array(['arcanine', 'blacephalon', 'blaziken', 'braixen', 'camerupt',\n",
       "        'charizard', 'charmander', 'charmeleon', 'chimchar', 'combusken',\n",
       "        'cyndaquil', 'darmanitan-standard', 'darumaka', 'delphox',\n",
       "        'emboar', 'entei', 'fennekin', 'flareon', 'fletchinder',\n",
       "        'growlithe', 'heatmor', 'heatran', 'ho-oh', 'incineroar',\n",
       "        'infernape', 'litleo', 'litten', 'magby', 'magcargo', 'magmar',\n",
       "        'magmortar', 'moltres', 'monferno', 'ninetales', 'numel',\n",
       "        'oricorio-baile', 'pansear', 'pignite', 'ponyta', 'pyroar',\n",
       "        'quilava', 'rapidash', 'simisear', 'slugma', 'talonflame', 'tepig',\n",
       "        'torchic', 'torkoal', 'torracat', 'turtonator', 'typhlosion',\n",
       "        'volcanion', 'vulpix'], dtype=object),\n",
       " 'Flying': array(['noibat', 'noivern', 'tornadus-incarnate'], dtype=object),\n",
       " 'Ghost': array(['banette', 'chandelure', 'cofagrigus', 'dhelmise', 'drifblim',\n",
       "        'drifloon', 'dusclops', 'dusknoir', 'duskull', 'gastly', 'gengar',\n",
       "        'giratina-altered', 'gourgeist-average', 'haunter', 'lampent',\n",
       "        'litwick', 'mimikyu', 'misdreavus', 'mismagius', 'palossand',\n",
       "        'phantump', 'pumpkaboo-average', 'sandygast', 'shuppet',\n",
       "        'spiritomb', 'trevenant', 'yamask'], dtype=object),\n",
       " 'Grass': array(['abomasnow', 'amoonguss', 'bayleef', 'bellossom', 'bellsprout',\n",
       "        'bounsweet', 'breloom', 'budew', 'bulbasaur', 'cacnea', 'cacturne',\n",
       "        'carnivine', 'cherrim', 'cherubi', 'chesnaught', 'chespin',\n",
       "        'chikorita', 'cottonee', 'dartrix', 'decidueye', 'exeggcute',\n",
       "        'exeggutor', 'ferroseed', 'ferrothorn', 'fomantis', 'foongus',\n",
       "        'gloom', 'gogoat', 'grotle', 'grovyle', 'hoppip', 'ivysaur',\n",
       "        'jumpluff', 'kartana', 'leafeon', 'lilligant', 'lurantis',\n",
       "        'maractus', 'meganium', 'morelull', 'nuzleaf', 'oddish', 'pansage',\n",
       "        'petilil', 'quilladin', 'roselia', 'roserade', 'rowlet',\n",
       "        'sceptile', 'seedot', 'serperior', 'servine', 'shaymin-land',\n",
       "        'shiftry', 'shiinotic', 'shroomish', 'simisage', 'skiddo',\n",
       "        'skiploom', 'snivy', 'snover', 'steenee', 'sunflora', 'sunkern',\n",
       "        'tangela', 'tangrowth', 'tapu-bulu', 'torterra', 'treecko',\n",
       "        'tropius', 'tsareena', 'turtwig', 'venusaur', 'victreebel',\n",
       "        'vileplume', 'virizion', 'weepinbell', 'whimsicott'], dtype=object),\n",
       " 'Ground': array(['baltoy', 'claydol', 'cubone', 'diglett', 'donphan', 'drilbur',\n",
       "        'dugtrio', 'excadrill', 'flygon', 'gligar', 'gliscor', 'golett',\n",
       "        'golurk', 'groudon', 'hippopotas', 'hippowdon', 'krokorok',\n",
       "        'krookodile', 'landorus-incarnate', 'marowak', 'mudbray',\n",
       "        'mudsdale', 'phanpy', 'rhydon', 'rhyhorn', 'rhyperior', 'sandile',\n",
       "        'sandshrew', 'sandslash', 'stunfisk', 'trapinch', 'vibrava'],\n",
       "       dtype=object),\n",
       " 'Ice': array(['articuno', 'avalugg', 'beartic', 'bergmite', 'cryogonal',\n",
       "        'cubchoo', 'delibird', 'froslass', 'glaceon', 'glalie', 'jynx',\n",
       "        'mamoswine', 'piloswine', 'regice', 'sealeo', 'smoochum',\n",
       "        'snorunt', 'spheal', 'swinub', 'vanillish', 'vanillite',\n",
       "        'vanilluxe', 'walrein'], dtype=object),\n",
       " 'Normal': array(['aipom', 'ambipom', 'arceus', 'audino', 'azurill', 'bewear',\n",
       "        'bibarel', 'bidoof', 'blissey', 'bouffalant', 'braviary',\n",
       "        'buneary', 'bunnelby', 'castform', 'chansey', 'chatot', 'cinccino',\n",
       "        'deerling', 'delcatty', 'diggersby', 'ditto', 'dodrio', 'doduo',\n",
       "        'drampa', 'dunsparce', 'eevee', 'exploud', 'farfetchd', 'fearow',\n",
       "        'fletchling', 'furfrou', 'furret', 'girafarig', 'glameow',\n",
       "        'gumshoos', 'happiny', 'herdier', 'hoothoot', 'igglybuff',\n",
       "        'jigglypuff', 'kangaskhan', 'kecleon', 'komala', 'lickilicky',\n",
       "        'lickitung', 'lillipup', 'linoone', 'lopunny', 'loudred',\n",
       "        'meloetta-aria', 'meowth', 'miltank', 'minccino', 'munchlax',\n",
       "        'noctowl', 'oranguru', 'patrat', 'persian', 'pidgeot', 'pidgeotto',\n",
       "        'pidgey', 'pidove', 'pikipek', 'porygon', 'porygon-z', 'porygon2',\n",
       "        'purugly', 'raticate', 'rattata', 'regigigas', 'rufflet',\n",
       "        'sawsbuck', 'sentret', 'silvally', 'skitty', 'slaking', 'slakoth',\n",
       "        'smeargle', 'snorlax', 'spearow', 'spinda', 'stantler',\n",
       "        'staraptor', 'staravia', 'starly', 'stoutland', 'stufful',\n",
       "        'swablu', 'swellow', 'taillow', 'tauros', 'teddiursa', 'toucannon',\n",
       "        'tranquill', 'trumbeak', 'type-null', 'unfezant', 'ursaring',\n",
       "        'vigoroth', 'watchog', 'whismur', 'wigglytuff', 'yungoos',\n",
       "        'zangoose', 'zigzagoon'], dtype=object),\n",
       " 'Poison': array(['arbok', 'croagunk', 'crobat', 'dragalge', 'drapion', 'ekans',\n",
       "        'garbodor', 'golbat', 'grimer', 'gulpin', 'koffing', 'mareanie',\n",
       "        'muk', 'naganadel', 'nidoking', 'nidoqueen', 'nidoran-f',\n",
       "        'nidoran-m', 'nidorina', 'nidorino', 'poipole', 'salandit',\n",
       "        'salazzle', 'seviper', 'skorupi', 'skrelp', 'skuntank', 'stunky',\n",
       "        'swalot', 'toxapex', 'toxicroak', 'trubbish', 'weezing', 'zubat'],\n",
       "       dtype=object),\n",
       " 'Psychic': array(['abra', 'alakazam', 'azelf', 'beheeyem', 'celebi', 'chimecho',\n",
       "        'chingling', 'cosmoem', 'cosmog', 'cresselia', 'deoxys-normal',\n",
       "        'drowzee', 'duosion', 'elgyem', 'espeon', 'espurr', 'gallade',\n",
       "        'gardevoir', 'gothita', 'gothitelle', 'gothorita', 'grumpig',\n",
       "        'hoopa-confined', 'hypno', 'kadabra', 'kirlia', 'lugia', 'lunala',\n",
       "        'meowstic-male', 'mesprit', 'mew', 'mewtwo', 'mime-jr', 'mr-mime',\n",
       "        'munna', 'musharna', 'natu', 'necrozma', 'ralts', 'reuniclus',\n",
       "        'sigilyph', 'solgaleo', 'solosis', 'spoink', 'swoobat',\n",
       "        'tapu-lele', 'unown', 'uxie', 'victini', 'wobbuffet', 'woobat',\n",
       "        'wynaut', 'xatu'], dtype=object),\n",
       " 'Rock': array(['aerodactyl', 'amaura', 'anorith', 'archen', 'archeops', 'armaldo',\n",
       "        'aurorus', 'barbaracle', 'bastiodon', 'binacle', 'boldore',\n",
       "        'bonsly', 'carbink', 'cradily', 'cranidos', 'diancie', 'geodude',\n",
       "        'gigalith', 'golem', 'graveler', 'kabuto', 'kabutops', 'larvitar',\n",
       "        'lileep', 'lunatone', 'lycanroc-midday', 'minior-meteor',\n",
       "        'nihilego', 'nosepass', 'omanyte', 'omastar', 'onix', 'probopass',\n",
       "        'pupitar', 'rampardos', 'regirock', 'rockruff', 'roggenrola',\n",
       "        'shieldon', 'solrock', 'stakataka', 'sudowoodo', 'terrakion',\n",
       "        'tyranitar', 'tyrantrum', 'tyrunt'], dtype=object),\n",
       " 'Steel': array(['aegislash-blade', 'aggron', 'aron', 'beldum', 'bronzong',\n",
       "        'bronzor', 'celesteela', 'cobalion', 'dialga', 'doublade',\n",
       "        'honedge', 'jirachi', 'klang', 'klefki', 'klink', 'klinklang',\n",
       "        'lairon', 'magearna', 'mawile', 'melmetal', 'meltan', 'metagross',\n",
       "        'metang', 'registeel', 'skarmory', 'steelix'], dtype=object),\n",
       " 'Water': array(['alomomola', 'araquanid', 'azumarill', 'barboach',\n",
       "        'basculin-red-striped', 'blastoise', 'brionne', 'bruxish',\n",
       "        'buizel', 'carracosta', 'carvanha', 'chinchou', 'clamperl',\n",
       "        'clauncher', 'clawitzer', 'cloyster', 'corphish', 'corsola',\n",
       "        'crawdaunt', 'croconaw', 'dewgong', 'dewott', 'dewpider',\n",
       "        'ducklett', 'empoleon', 'feebas', 'feraligatr', 'finneon',\n",
       "        'floatzel', 'frillish', 'froakie', 'frogadier', 'gastrodon',\n",
       "        'goldeen', 'golduck', 'gorebyss', 'greninja', 'gyarados', 'horsea',\n",
       "        'huntail', 'jellicent', 'keldeo-ordinary', 'kingdra', 'kingler',\n",
       "        'krabby', 'kyogre', 'lanturn', 'lapras', 'lombre', 'lotad',\n",
       "        'ludicolo', 'lumineon', 'luvdisc', 'magikarp', 'manaphy',\n",
       "        'mantine', 'mantyke', 'marill', 'marshtomp', 'milotic', 'mudkip',\n",
       "        'octillery', 'oshawott', 'palkia', 'palpitoad', 'panpour',\n",
       "        'pelipper', 'phione', 'piplup', 'politoed', 'poliwag', 'poliwhirl',\n",
       "        'poliwrath', 'popplio', 'primarina', 'prinplup', 'psyduck',\n",
       "        'pyukumuku', 'quagsire', 'qwilfish', 'relicanth', 'remoraid',\n",
       "        'samurott', 'seadra', 'seaking', 'seel', 'seismitoad', 'sharpedo',\n",
       "        'shellder', 'shellos', 'simipour', 'slowbro', 'slowking',\n",
       "        'slowpoke', 'squirtle', 'starmie', 'staryu', 'suicune', 'swampert',\n",
       "        'swanna', 'tapu-fini', 'tentacool', 'tentacruel', 'tirtouga',\n",
       "        'totodile', 'tympole', 'vaporeon', 'wailmer', 'wailord',\n",
       "        'wartortle', 'whiscash', 'wingull', 'wishiwashi-solo', 'wooper'],\n",
       "       dtype=object)}"
      ]
     },
     "execution_count": 217,
     "metadata": {},
     "output_type": "execute_result"
    }
   ],
   "source": [
    "kelompok"
   ]
  },
  {
   "cell_type": "markdown",
   "metadata": {},
   "source": [
    "# Analisis Data"
   ]
  },
  {
   "cell_type": "code",
   "execution_count": 218,
   "metadata": {},
   "outputs": [
    {
     "data": {
      "text/plain": [
       "{'Bug': 72,\n",
       " 'Dark': 29,\n",
       " 'Dragon': 27,\n",
       " 'Electric': 40,\n",
       " 'Fairy': 18,\n",
       " 'Fighting': 29,\n",
       " 'Fire': 53,\n",
       " 'Flying': 3,\n",
       " 'Ghost': 27,\n",
       " 'Grass': 78,\n",
       " 'Ground': 32,\n",
       " 'Ice': 23,\n",
       " 'Normal': 105,\n",
       " 'Poison': 34,\n",
       " 'Psychic': 53,\n",
       " 'Rock': 46,\n",
       " 'Steel': 26,\n",
       " 'Water': 114}"
      ]
     },
     "execution_count": 218,
     "metadata": {},
     "output_type": "execute_result"
    }
   ],
   "source": [
    "jmlKelompok"
   ]
  },
  {
   "cell_type": "code",
   "execution_count": 234,
   "metadata": {},
   "outputs": [
    {
     "data": {
      "image/png": "[encoded data removed]",
      "text/plain": [
       "<Figure size 432x288 with 1 Axes>"
      ]
     },
     "metadata": {
      "needs_background": "light"
     },
     "output_type": "display_data"
    }
   ],
   "source": [
    "# Menampilkan perbandingan frekuensi data setiap jenis pokemon\n",
    "pd.DataFrame(jmlKelompok,index=['Jumlah']).T.plot(kind='bar')\n",
    "plt.title('Perbandingan Frekuensi Data dan Jenis Pokemon')\n",
    "plt.ylabel('Frekuensi')\n",
    "plt.show()"
   ]
  },
  {
   "cell_type": "markdown",
   "metadata": {},
   "source": [
    "# Memindahkan Gambar\n",
    "Memindahkan gambar menjadi folder sesuai dengan tipe pokemon agar dapat digunakan sebagai ImageDataGenerator dengan Keras nantinya"
   ]
  },
  {
   "cell_type": "code",
   "execution_count": null,
   "metadata": {},
   "outputs": [],
   "source": [
    "from shutil import copyfile"
   ]
  }
 ],
 "metadata": {
  "kernelspec": {
   "display_name": "Python 3",
   "language": "python",
   "name": "python3"
  },
  "language_info": {
   "codemirror_mode": {
    "name": "ipython",
    "version": 3
   },
   "file_extension": ".py",
   "mimetype": "text/x-python",
   "name": "python",
   "nbconvert_exporter": "python",
   "pygments_lexer": "ipython3",
   "version": "3.7.7"
  }
 },
 "nbformat": 4,
 "nbformat_minor": 4
}
